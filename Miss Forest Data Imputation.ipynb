{
 "cells": [
  {
   "cell_type": "code",
   "execution_count": 28,
   "id": "314f1d59",
   "metadata": {},
   "outputs": [],
   "source": [
    "import pandas as pd\n",
    "import seaborn as sns\n",
    "import matplotlib.pyplot as plt\n",
    "import numpy as np\n",
    "import statistics as stat\n",
    "from sklearn.ensemble import RandomForestClassifier\n",
    "from sklearn.ensemble import RandomForestRegressor"
   ]
  },
  {
   "cell_type": "code",
   "execution_count": 29,
   "id": "414f012e",
   "metadata": {},
   "outputs": [],
   "source": [
    "def time_method(df):\n",
    "    timestamp=df.iloc[:,0]\n",
    "    df['month']=timestamp.dt.strftime('%m').astype(np.float64)\n",
    "    \n",
    "    df['day']=timestamp.dt.strftime('%d').astype(np.float64)\n",
    "   \n",
    "    df['hour']=timestamp.dt.strftime('%H').astype(np.float64)\n",
    "   \n",
    "    df['minute']=timestamp.dt.strftime('%M').astype(np.float64)\n",
    "    \n",
    "    return df\n",
    "#only test for continuous data\n",
    "def miss_forest(x_train,y_train,x_test,dtype):\n",
    "    if dtype == 'Continious':\n",
    "        model = RandomForestRegressor()\n",
    "    elif dtype == 'Categorical':\n",
    "        model = RandomForestClassifier()\n",
    "    #gpu can not work for sklearn\n",
    "    #model.cuda()\n",
    "    #x_train = x_train.cuda()\n",
    "    #y_train = y_train.cuda()\n",
    "    model.fit(x_train,y_train)\n",
    "    \n",
    "    y_pred = model.predict(x_test)\n",
    "    return y_pred\n"
   ]
  },
  {
   "cell_type": "code",
   "execution_count": 33,
   "id": "b4c40616",
   "metadata": {},
   "outputs": [
    {
     "name": "stdout",
     "output_type": "stream",
     "text": [
      "data preperation finished\n"
     ]
    }
   ],
   "source": [
    "\n",
    "# data preparation for 1.9w data\n",
    "import random\n",
    "count = 1\n",
    "path = 'energydata_complete.csv'\n",
    "path_miss = 'energydata_complete.csv'\n",
    "label = 'Appliances'\n",
    "miss_num = 14\n",
    "\n",
    "# read data\n",
    "df = pd.read_csv(path).dropna()\n",
    "df_miss = pd.read_csv(path_miss)\n",
    "#print(\"read from:\"+str(len(df_miss)))\n",
    "\n",
    "#try dropping date\n",
    "df=df.drop(['date'],axis=1)\n",
    "df_miss=df_miss.drop(['date'],axis=1)\n",
    "df_imputed = df_miss.copy()\n",
    "#print(len(df_imputed))\n",
    "\n",
    "#select missing columns and set it as nan\n",
    "header_list = list(df_miss.columns.values)\n",
    "header_list.remove(label)\n",
    "predict_cols = random.sample(range(0,len(header_list)),miss_num)\n",
    "\n",
    "#impute df_miss with df mean\n",
    "for i in range(len(predict_cols)):\n",
    "    miss_col = header_list[predict_cols[i]]\n",
    "    #print('miss feature:'+str(miss_col)+' and imputed by '+ str(np.mean(df[miss_col])))\n",
    "    df_miss[miss_col].values[:] = np.mean(df[miss_col])\n",
    "\n",
    "print(\"data preperation finished\")\n"
   ]
  },
  {
   "cell_type": "code",
   "execution_count": 34,
   "id": "5a743f85",
   "metadata": {},
   "outputs": [
    {
     "data": {
      "text/plain": [
       "\"\\npath = 'household_power_consumption.txt'\\n        \\ndf = pd.read_csv(\\n    path, \\n    sep=';', \\n    parse_dates={'dt' : ['Date', 'Time']}, \\n    infer_datetime_format=True, \\n    low_memory=False, \\n    na_values=['nan','?'], \\n    index_col='dt'\\n)\\n#print('Total data size from csv file: '+ str(len(df)))\\ndf_resample = df.resample('30T').mean() # 30 mins resample\\nprint('Data size after resample: '+ str(df_resample.shape[0]))\\n#print(df_resample.shape[1])\\nprint(df_resample.info())\\nX = df_resample.dropna().copy() # drop missing data rows, X contains all feature values\\ny = X['Global_active_power'].shift(-1).ffill()\\nX = X.drop('Global_active_power', axis=1) #  remove y column\\n#print(X.info())\\nprint('Data size after dropping missing value rows: '+str(X.shape[0]))\\n#self.columns = X.columns\\n\""
      ]
     },
     "execution_count": 34,
     "metadata": {},
     "output_type": "execute_result"
    }
   ],
   "source": [
    "\"\"\"\n",
    "path = 'household_power_consumption.txt'\n",
    "        \n",
    "df = pd.read_csv(\n",
    "    path, \n",
    "    sep=';', \n",
    "    parse_dates={'dt' : ['Date', 'Time']}, \n",
    "    infer_datetime_format=True, \n",
    "    low_memory=False, \n",
    "    na_values=['nan','?'], \n",
    "    index_col='dt'\n",
    ")\n",
    "#print('Total data size from csv file: '+ str(len(df)))\n",
    "df_resample = df.resample('30T').mean() # 30 mins resample\n",
    "print('Data size after resample: '+ str(df_resample.shape[0]))\n",
    "#print(df_resample.shape[1])\n",
    "print(df_resample.info())\n",
    "X = df_resample.dropna().copy() # drop missing data rows, X contains all feature values\n",
    "y = X['Global_active_power'].shift(-1).ffill()\n",
    "X = X.drop('Global_active_power', axis=1) #  remove y column\n",
    "#print(X.info())\n",
    "print('Data size after dropping missing value rows: '+str(X.shape[0]))\n",
    "#self.columns = X.columns\n",
    "\"\"\""
   ]
  },
  {
   "cell_type": "code",
   "execution_count": 35,
   "id": "21bfca9e",
   "metadata": {},
   "outputs": [
    {
     "name": "stdout",
     "output_type": "stream",
     "text": [
      "miss feature: Visibility loss: 0.28983874\n",
      "miss feature: RH_7 loss: 0.04511347\n",
      "miss feature: lights loss:        inf\n",
      "miss feature: RH_2 loss: 0.03672654\n",
      "miss feature: T5 loss: 0.03719749\n",
      "miss feature: Press_mm_hg loss: 0.00451301\n",
      "miss feature: rv1 loss: 0.00028382\n",
      "miss feature: T2 loss: 0.07837135\n",
      "miss feature: T1 loss: 0.03133340\n",
      "miss feature: T6 loss:        inf\n",
      "miss feature: Tdewpoint loss:        inf\n",
      "miss feature: RH_9 loss: 0.02373763\n",
      "miss feature: RH_out loss: 0.08254803\n",
      "miss feature: T7 loss: 0.01237309\n",
      "iteration: 1\n",
      "   Appliances  lights         T1       RH_1         T2       RH_2     T3  \\\n",
      "0          60       4  21.361550  47.596667  20.918008  44.453394  19.79   \n",
      "1          60       4  21.398450  46.693333  20.907900  44.474569  19.79   \n",
      "2          50       2  21.386017  46.300000  20.915675  44.430625  19.79   \n",
      "3          50       2  21.382583  46.066667  20.925850  44.416258  19.79   \n",
      "4          60       4  21.371983  46.333333  20.931000  44.396356  19.79   \n",
      "\n",
      "        RH_3         T4       RH_4  ...         T9       RH_9     T_out  \\\n",
      "0  44.730000  19.000000  45.566667  ...  17.033333  45.505458  6.600000   \n",
      "1  44.790000  19.000000  45.992500  ...  17.066667  45.500425  6.483333   \n",
      "2  44.933333  18.926667  45.890000  ...  17.000000  45.490225  6.366667   \n",
      "3  45.000000  18.890000  45.723333  ...  17.000000  45.495900  6.250000   \n",
      "4  45.000000  18.890000  45.530000  ...  17.000000  45.526842  6.133333   \n",
      "\n",
      "   Press_mm_hg     RH_out  Windspeed  Visibility  Tdewpoint        rv1  \\\n",
      "0   740.687667  82.920000   7.000000   34.628333   3.309833  13.276174   \n",
      "1   740.567500  82.941667   6.666667   34.715000   3.184500  18.606068   \n",
      "2   740.371167  83.246667   6.333333   34.826667   3.094667  28.642070   \n",
      "3   740.689000  83.026667   6.000000   35.611667   2.968500  45.409579   \n",
      "4   740.941000  82.658333   5.666667   35.303333   2.815500  10.085391   \n",
      "\n",
      "         rv2  \n",
      "0  13.275433  \n",
      "1  18.606195  \n",
      "2  28.642668  \n",
      "3  45.410389  \n",
      "4  10.084097  \n",
      "\n",
      "[5 rows x 28 columns]\n",
      "imputed_14_energydata_complete.csv is saved!\n"
     ]
    }
   ],
   "source": [
    "ite = 0\n",
    "#while ite < 5:\n",
    "for j in range(len(predict_cols)):\n",
    "    miss_col = header_list[predict_cols[j]]\n",
    "    x_train = df.loc[:,df.columns != miss_col]\n",
    "    y_train = df[miss_col]\n",
    "    x_test = df_miss.loc[:,df.columns != miss_col]\n",
    "    y_test = df_miss[miss_col]\n",
    "\n",
    "    y_imputed = miss_forest(x_train,y_train,x_test,dtype = 'Continious')\n",
    "    #df_imputed[miss_col].values[:] = y_imputed\n",
    "    df_miss[miss_col].values[:] = y_imputed\n",
    "    loss = abs(y_imputed-y_train)/y_train\n",
    "    print(f'miss feature: {miss_col} loss: {np.mean(loss):10.8f}')\n",
    "    \n",
    "ite += 1\n",
    "print('iteration: '+str(ite))\n",
    "#print(df_imputed.head(5))\n",
    "print(df_miss.head(5))\n",
    "\n",
    "file_name = 'imputed_'+str(len(predict_cols))+'_'+ path_miss\n",
    "#df_imputed.to_csv(file_name)\n",
    "df_miss.to_csv(file_name)\n",
    "print(file_name+' is saved!')\n",
    "    "
   ]
  },
  {
   "cell_type": "code",
   "execution_count": null,
   "id": "15fab322",
   "metadata": {},
   "outputs": [],
   "source": []
  },
  {
   "cell_type": "code",
   "execution_count": null,
   "id": "6da13e10",
   "metadata": {},
   "outputs": [],
   "source": []
  },
  {
   "cell_type": "code",
   "execution_count": null,
   "id": "75b6db4d",
   "metadata": {},
   "outputs": [],
   "source": []
  },
  {
   "cell_type": "code",
   "execution_count": null,
   "id": "996e692a",
   "metadata": {},
   "outputs": [],
   "source": []
  },
  {
   "cell_type": "code",
   "execution_count": null,
   "id": "0e2b645e",
   "metadata": {},
   "outputs": [],
   "source": []
  }
 ],
 "metadata": {
  "kernelspec": {
   "display_name": "Python 3 (ipykernel)",
   "language": "python",
   "name": "python3"
  },
  "language_info": {
   "codemirror_mode": {
    "name": "ipython",
    "version": 3
   },
   "file_extension": ".py",
   "mimetype": "text/x-python",
   "name": "python",
   "nbconvert_exporter": "python",
   "pygments_lexer": "ipython3",
   "version": "3.9.12"
  }
 },
 "nbformat": 4,
 "nbformat_minor": 5
}
